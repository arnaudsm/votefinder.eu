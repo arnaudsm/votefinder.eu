{
 "cells": [
  {
   "cell_type": "code",
   "execution_count": 22,
   "id": "41affd52",
   "metadata": {},
   "outputs": [],
   "source": [
    "import pandas as pd\n",
    "import numpy as np\n",
    "import sys\n",
    "import os\n",
    "import requests"
   ]
  },
  {
   "cell_type": "code",
   "execution_count": 8,
   "id": "3ebb8db4",
   "metadata": {},
   "outputs": [],
   "source": [
    "plop = pd.read_csv('./summary_file.csv')"
   ]
  },
  {
   "cell_type": "code",
   "execution_count": 18,
   "id": "c9d937f8",
   "metadata": {},
   "outputs": [],
   "source": [
    "vote_ids = plop.set_index('Unnamed: 0').T.reset_index()['vote_id']"
   ]
  },
  {
   "cell_type": "markdown",
   "id": "06325934",
   "metadata": {},
   "source": [
    "# Vote retrieval"
   ]
  },
  {
   "cell_type": "code",
   "execution_count": 88,
   "id": "806b87b5",
   "metadata": {},
   "outputs": [],
   "source": [
    "def get_vote_perc_per_x(df: pd.DataFrame, discri_col: str=\"member.group.label\"):\n",
    "    \n",
    "    pos_vote_result = df[df[\"position\"] == \"VotePosition.FOR\"]\n",
    "    \n",
    "    return (pos_vote_result.groupby(discri_col)['position'].count() / df.groupby(discri_col)['position'].count()).replace(np.nan, 0)"
   ]
  },
  {
   "cell_type": "code",
   "execution_count": 89,
   "id": "79dcafb2",
   "metadata": {},
   "outputs": [],
   "source": [
    "def get_vote_perc(df: pd.DataFrame):\n",
    "    \n",
    "    pos_vote_result = df[df[\"position\"] == \"VotePosition.FOR\"]\n",
    "    \n",
    "    return (pos_vote_result['position'].count() / df['position'].count())\n"
   ]
  },
  {
   "cell_type": "code",
   "execution_count": 90,
   "id": "e881a843",
   "metadata": {},
   "outputs": [],
   "source": [
    "vote_result_tot = dict()\n",
    "vote_result_per_group_dict = dict()\n",
    "\n",
    "filters = {\n",
    "    \"member.country.code\" : [\"FRA\"]\n",
    "}\n",
    "\n",
    "for vote_id in vote_ids:\n",
    "    if not os.path.isfile(f'./{vote_id}.csv'):\n",
    "        r = requests.get(f\"https://howtheyvote.eu/api/votes/{vote_id}.csv\")\n",
    "        if r.ok:\n",
    "#             print(f\"saving to {os.path.abspath('./' + vote_id + '.csv')}\")\n",
    "            with open(f'./{vote_id}.csv', 'wb') as f:\n",
    "                for chunk in r.iter_content(chunk_size=1024 * 8): # magic \n",
    "                    if chunk:\n",
    "                        f.write(chunk)\n",
    "                        f.flush()\n",
    "                        os.fsync(f.fileno())\n",
    "        else:\n",
    "            print(\"Download failed: status code {}\\n{}\".format(r.status_code, r.text))\n",
    "    \n",
    "    \n",
    "    vote_data = pd.read_csv(f'./{vote_id}.csv')\n",
    "    for col_name, col_values in filters.items():\n",
    "        vote_data = vote_data[vote_data[col_name].isin(col_values)]\n",
    "        \n",
    "    vote_result_tot[vote_id] = get_vote_perc(vote_data)\n",
    "    vote_result_per_group_dict[vote_id] = get_vote_perc_per_x(vote_data, \"member.group.label\")"
   ]
  },
  {
   "cell_type": "markdown",
   "id": "3f1cc049",
   "metadata": {},
   "source": [
    "Idea is to get a PCA association, as shown in this https://stats.stackexchange.com/questions/119746/what-is-the-proper-association-measure-of-a-variable-with-a-pca-component-on-a"
   ]
  },
  {
   "cell_type": "markdown",
   "id": "7af9e7c0",
   "metadata": {},
   "source": [
    "Observation that Reconquete is not voting often"
   ]
  },
  {
   "cell_type": "code",
   "execution_count": 82,
   "id": "fb48e25c",
   "metadata": {},
   "outputs": [
    {
     "data": {
      "text/plain": [
       "0.04180064308681672"
      ]
     },
     "execution_count": 82,
     "metadata": {},
     "output_type": "execute_result"
    }
   ],
   "source": [
    "len(pd.concat(vote_dict, axis=1).T['European Conservatives and Reformists'].dropna()) / len(pd.concat(vote_dict, axis=1).T['European Conservatives and Reformists'])"
   ]
  },
  {
   "cell_type": "markdown",
   "id": "9d0c9f0a",
   "metadata": {},
   "source": [
    "# Vote vectorisation + Variance metric"
   ]
  },
  {
   "cell_type": "code",
   "execution_count": 110,
   "id": "ca5e9335",
   "metadata": {},
   "outputs": [],
   "source": [
    "vote_df = pd.concat(vote_dict, axis=1)"
   ]
  },
  {
   "cell_type": "code",
   "execution_count": 111,
   "id": "86061627",
   "metadata": {},
   "outputs": [],
   "source": [
    "variance = vote_df.std(axis=0)"
   ]
  },
  {
   "cell_type": "code",
   "execution_count": 93,
   "id": "a0fcbea8",
   "metadata": {},
   "outputs": [
    {
     "data": {
      "text/plain": [
       "count    311.000000\n",
       "mean       0.365538\n",
       "std        0.162650\n",
       "min        0.000000\n",
       "25%        0.369646\n",
       "50%        0.408248\n",
       "75%        0.480181\n",
       "max        0.547723\n",
       "dtype: float64"
      ]
     },
     "execution_count": 93,
     "metadata": {},
     "output_type": "execute_result"
    }
   ],
   "source": []
  },
  {
   "cell_type": "code",
   "execution_count": 109,
   "id": "de4ab1cc",
   "metadata": {},
   "outputs": [
    {
     "data": {
      "text/plain": [
       "Index(['117281', '134945', '162202', '147523', '156848', '122259', '163061',\n",
       "       '133727', '116296', '153640',\n",
       "       ...\n",
       "       '166566', '134333', '147458', '134875', '117284', '134950', '146836',\n",
       "       '133938', '126257', '156755'],\n",
       "      dtype='object', length=281)"
      ]
     },
     "execution_count": 109,
     "metadata": {},
     "output_type": "execute_result"
    }
   ],
   "source": [
    "vote_tot_df = pd.DataFrame([vote_result_tot]).T\n",
    "non_full_aggreement = vote_tot_df[vote_tot_df[0] < 0.98].index"
   ]
  },
  {
   "cell_type": "code",
   "execution_count": 121,
   "id": "798703fc",
   "metadata": {},
   "outputs": [
    {
     "data": {
      "text/plain": [
       "126265    0.000000\n",
       "128845    0.000000\n",
       "126264    0.000000\n",
       "128854    0.000000\n",
       "117268    0.000000\n",
       "116785    0.000000\n",
       "113694    0.000000\n",
       "125365    0.000000\n",
       "126267    0.000000\n",
       "131706    0.000000\n",
       "115402    0.000000\n",
       "130717    0.000000\n",
       "116291    0.000000\n",
       "128853    0.000000\n",
       "126266    0.000000\n",
       "130716    0.000000\n",
       "137603    0.000000\n",
       "139917    0.000000\n",
       "124725    0.001807\n",
       "124724    0.001807\n",
       "124723    0.001807\n",
       "134350    0.002884\n",
       "125374    0.003274\n",
       "130599    0.003274\n",
       "127024    0.004134\n",
       "127026    0.004134\n",
       "134874    0.004134\n",
       "134873    0.004134\n",
       "138170    0.004187\n",
       "127180    0.005457\n",
       "111546    0.006597\n",
       "112552    0.006616\n",
       "118524    0.007034\n",
       "128852    0.007126\n",
       "126262    0.007285\n",
       "150069    0.008256\n",
       "133940    0.008267\n",
       "127831    0.008267\n",
       "127627    0.008511\n",
       "127624    0.008511\n",
       "153640    0.009191\n",
       "146606    0.009333\n",
       "160132    0.010102\n",
       "162987    0.010277\n",
       "163095    0.011055\n",
       "155525    0.011643\n",
       "155882    0.012588\n",
       "148324    0.013809\n",
       "131708    0.014252\n",
       "151561    0.016230\n",
       "112530    0.016996\n",
       "146358    0.017230\n",
       "146315    0.017230\n",
       "146307    0.017230\n",
       "146304    0.017230\n",
       "154632    0.017414\n",
       "154612    0.017414\n",
       "158587    0.020415\n",
       "159016    0.023293\n",
       "147522    0.023733\n",
       "dtype: float64"
      ]
     },
     "execution_count": 121,
     "metadata": {},
     "output_type": "execute_result"
    }
   ],
   "source": [
    "vote_df.cov().abs().mean(axis=1).nsmallest(60)"
   ]
  },
  {
   "cell_type": "code",
   "execution_count": null,
   "id": "1550ea1c",
   "metadata": {},
   "outputs": [],
   "source": []
  }
 ],
 "metadata": {
  "kernelspec": {
   "display_name": "myenv0",
   "language": "python",
   "name": "myenv0"
  },
  "language_info": {
   "codemirror_mode": {
    "name": "ipython",
    "version": 3
   },
   "file_extension": ".py",
   "mimetype": "text/x-python",
   "name": "python",
   "nbconvert_exporter": "python",
   "pygments_lexer": "ipython3",
   "version": "3.7.10"
  }
 },
 "nbformat": 4,
 "nbformat_minor": 5
}
